{
 "cells": [
  {
   "cell_type": "markdown",
   "metadata": {},
   "source": [
    "## Data"
   ]
  },
  {
   "cell_type": "markdown",
   "metadata": {},
   "source": [
    "The dataset describes the daily BTC price from 2017-08-17 to date.\n",
    "The currency is USD and there are 1303 obeservations as at 10/03/2021\n",
    "The source of the data is from Binance\n",
    "\n",
    "### Dictionnary\n",
    "Unix Timestamp - This is the unix timestamp or also known as \"Epoch Time\". Use this to convert to your local timezone\n",
    "\n",
    "Date - This timestamp is converted to NY EST Standard Time\n",
    "\n",
    "Symbol - The symbol for which the timeseries data refers\n",
    "\n",
    "Open - This is the opening price of the time period\n",
    "\n",
    "High - This is the highest price of the time period\n",
    "\n",
    "Low - This is the lowest price of the time period\n",
    "\n",
    "Close - This is the closing price of the time period\n",
    "\n",
    "Volume (Crypto) - This is the volume in the transacted Ccy. Ie. For BTC/USDT, this is in BTC amount\n",
    "\n",
    "Volume Base Ccy - This is the volume in the base/converted ccy. Ie. For BTC/USDT, this is in USDT amount\n",
    "\n",
    "Trade Count - This is the unique number of trades for the given time period"
   ]
  },
  {
   "cell_type": "code",
   "execution_count": 126,
   "metadata": {},
   "outputs": [
    {
     "data": {
      "text/html": [
       "<div>\n",
       "<style scoped>\n",
       "    .dataframe tbody tr th:only-of-type {\n",
       "        vertical-align: middle;\n",
       "    }\n",
       "\n",
       "    .dataframe tbody tr th {\n",
       "        vertical-align: top;\n",
       "    }\n",
       "\n",
       "    .dataframe thead th {\n",
       "        text-align: right;\n",
       "    }\n",
       "</style>\n",
       "<table border=\"1\" class=\"dataframe\">\n",
       "  <thead>\n",
       "    <tr style=\"text-align: right;\">\n",
       "      <th></th>\n",
       "      <th>unix</th>\n",
       "      <th>date</th>\n",
       "      <th>symbol</th>\n",
       "      <th>open</th>\n",
       "      <th>high</th>\n",
       "      <th>low</th>\n",
       "      <th>close</th>\n",
       "      <th>Volume BTC</th>\n",
       "      <th>Volume USDT</th>\n",
       "      <th>tradecount</th>\n",
       "    </tr>\n",
       "  </thead>\n",
       "  <tbody>\n",
       "    <tr>\n",
       "      <th>0</th>\n",
       "      <td>1.615334e+12</td>\n",
       "      <td>2021-03-10 00:00:00</td>\n",
       "      <td>BTC/USDT</td>\n",
       "      <td>54874.67</td>\n",
       "      <td>55577.78</td>\n",
       "      <td>54782.93</td>\n",
       "      <td>55575.19</td>\n",
       "      <td>2706.867241</td>\n",
       "      <td>1.490111e+08</td>\n",
       "      <td>62123.0</td>\n",
       "    </tr>\n",
       "    <tr>\n",
       "      <th>1</th>\n",
       "      <td>1.615248e+12</td>\n",
       "      <td>2021-03-09 00:00:00</td>\n",
       "      <td>BTC/USDT</td>\n",
       "      <td>52375.18</td>\n",
       "      <td>54895.00</td>\n",
       "      <td>51789.41</td>\n",
       "      <td>54884.50</td>\n",
       "      <td>71656.737076</td>\n",
       "      <td>3.861451e+09</td>\n",
       "      <td>2194398.0</td>\n",
       "    </tr>\n",
       "    <tr>\n",
       "      <th>2</th>\n",
       "      <td>1.615162e+12</td>\n",
       "      <td>2021-03-08 00:00:00</td>\n",
       "      <td>BTC/USDT</td>\n",
       "      <td>50959.11</td>\n",
       "      <td>52402.78</td>\n",
       "      <td>49274.67</td>\n",
       "      <td>52375.17</td>\n",
       "      <td>66987.359664</td>\n",
       "      <td>3.400848e+09</td>\n",
       "      <td>1999401.0</td>\n",
       "    </tr>\n",
       "    <tr>\n",
       "      <th>3</th>\n",
       "      <td>1.615075e+12</td>\n",
       "      <td>2021-03-07 00:00:00</td>\n",
       "      <td>BTC/USDT</td>\n",
       "      <td>48882.20</td>\n",
       "      <td>51450.03</td>\n",
       "      <td>48882.20</td>\n",
       "      <td>50971.75</td>\n",
       "      <td>55235.028032</td>\n",
       "      <td>2.778876e+09</td>\n",
       "      <td>1758101.0</td>\n",
       "    </tr>\n",
       "    <tr>\n",
       "      <th>4</th>\n",
       "      <td>1.614989e+12</td>\n",
       "      <td>2021-03-06 00:00:00</td>\n",
       "      <td>BTC/USDT</td>\n",
       "      <td>48746.81</td>\n",
       "      <td>49200.00</td>\n",
       "      <td>47070.00</td>\n",
       "      <td>48882.20</td>\n",
       "      <td>44399.234242</td>\n",
       "      <td>2.143911e+09</td>\n",
       "      <td>1476474.0</td>\n",
       "    </tr>\n",
       "  </tbody>\n",
       "</table>\n",
       "</div>"
      ],
      "text/plain": [
       "           unix                 date    symbol      open      high       low  \\\n",
       "0  1.615334e+12  2021-03-10 00:00:00  BTC/USDT  54874.67  55577.78  54782.93   \n",
       "1  1.615248e+12  2021-03-09 00:00:00  BTC/USDT  52375.18  54895.00  51789.41   \n",
       "2  1.615162e+12  2021-03-08 00:00:00  BTC/USDT  50959.11  52402.78  49274.67   \n",
       "3  1.615075e+12  2021-03-07 00:00:00  BTC/USDT  48882.20  51450.03  48882.20   \n",
       "4  1.614989e+12  2021-03-06 00:00:00  BTC/USDT  48746.81  49200.00  47070.00   \n",
       "\n",
       "      close    Volume BTC   Volume USDT  tradecount  \n",
       "0  55575.19   2706.867241  1.490111e+08     62123.0  \n",
       "1  54884.50  71656.737076  3.861451e+09   2194398.0  \n",
       "2  52375.17  66987.359664  3.400848e+09   1999401.0  \n",
       "3  50971.75  55235.028032  2.778876e+09   1758101.0  \n",
       "4  48882.20  44399.234242  2.143911e+09   1476474.0  "
      ]
     },
     "execution_count": 126,
     "metadata": {},
     "output_type": "execute_result"
    }
   ],
   "source": [
    "import pandas as pd\n",
    "import numpy as np\n",
    "from matplotlib import pyplot\n",
    "\n",
    "url = \"https://www.cryptodatadownload.com/cdd/Binance_BTCUSDT_d.csv\"\n",
    "\n",
    "# Import ssl library and tweak one setting due to fact we use HTTPS certificate(s)\n",
    "\n",
    "import ssl  \n",
    "ssl._create_default_https_context = ssl._create_unverified_context\n",
    "\n",
    "# Now we want to create a dataframe and use Pandas' to_csv function to read in our file\n",
    "\n",
    "\n",
    "df_crypto = pd.read_csv(url, skiprows=1, parse_dates = True, squeeze = True) # we use skiprows parameter because first row contains our web address\n",
    "\n",
    "# Diplay the first 5 rows\n",
    "df_crypto.head(5)"
   ]
  },
  {
   "cell_type": "code",
   "execution_count": 127,
   "metadata": {},
   "outputs": [
    {
     "data": {
      "text/plain": [
       "unix           float64\n",
       "date            object\n",
       "symbol          object\n",
       "open           float64\n",
       "high           float64\n",
       "low            float64\n",
       "close          float64\n",
       "Volume BTC     float64\n",
       "Volume USDT    float64\n",
       "tradecount     float64\n",
       "dtype: object"
      ]
     },
     "execution_count": 127,
     "metadata": {},
     "output_type": "execute_result"
    }
   ],
   "source": [
    "df_crypto.dtypes"
   ]
  },
  {
   "cell_type": "code",
   "execution_count": 128,
   "metadata": {},
   "outputs": [
    {
     "data": {
      "text/plain": [
       "0       2021-03-10 00:00:00\n",
       "1       2021-03-09 00:00:00\n",
       "2       2021-03-08 00:00:00\n",
       "3       2021-03-07 00:00:00\n",
       "4       2021-03-06 00:00:00\n",
       "               ...         \n",
       "1298             2017-08-21\n",
       "1299             2017-08-20\n",
       "1300             2017-08-19\n",
       "1301             2017-08-18\n",
       "1302             2017-08-17\n",
       "Name: date, Length: 1303, dtype: object"
      ]
     },
     "execution_count": 128,
     "metadata": {},
     "output_type": "execute_result"
    }
   ],
   "source": [
    "df_crypto['date'] = df_crypto['date'].astype(\"str\")\n",
    "all_pricess= df_crypto['date']\n",
    "all_pricess"
   ]
  },
  {
   "cell_type": "code",
   "execution_count": 129,
   "metadata": {},
   "outputs": [
    {
     "data": {
      "text/plain": [
       "(1303, 10)"
      ]
     },
     "execution_count": 129,
     "metadata": {},
     "output_type": "execute_result"
    }
   ],
   "source": [
    "# dataset size \n",
    "total_observations = df_crypto.shape\n",
    "total_observations"
   ]
  },
  {
   "cell_type": "code",
   "execution_count": 130,
   "metadata": {},
   "outputs": [
    {
     "name": "stdout",
     "output_type": "stream",
     "text": [
      "<class 'pandas.core.frame.DataFrame'>\n",
      "RangeIndex: 1303 entries, 0 to 1302\n",
      "Data columns (total 10 columns):\n",
      " #   Column       Non-Null Count  Dtype  \n",
      "---  ------       --------------  -----  \n",
      " 0   unix         1303 non-null   float64\n",
      " 1   date         1303 non-null   object \n",
      " 2   symbol       1303 non-null   object \n",
      " 3   open         1303 non-null   float64\n",
      " 4   high         1303 non-null   float64\n",
      " 5   low          1303 non-null   float64\n",
      " 6   close        1303 non-null   float64\n",
      " 7   Volume BTC   1303 non-null   float64\n",
      " 8   Volume USDT  1303 non-null   float64\n",
      " 9   tradecount   1179 non-null   float64\n",
      "dtypes: float64(8), object(2)\n",
      "memory usage: 101.9+ KB\n"
     ]
    }
   ],
   "source": [
    "# getting basic information on the data\n",
    "df_crypto.info()"
   ]
  },
  {
   "cell_type": "code",
   "execution_count": 131,
   "metadata": {},
   "outputs": [
    {
     "data": {
      "text/plain": [
       "Index(['unix', 'date', 'symbol', 'open', 'high', 'low', 'close', 'Volume BTC',\n",
       "       'Volume USDT', 'tradecount'],\n",
       "      dtype='object')"
      ]
     },
     "execution_count": 131,
     "metadata": {},
     "output_type": "execute_result"
    }
   ],
   "source": [
    "df_crypto.columns"
   ]
  },
  {
   "cell_type": "code",
   "execution_count": 132,
   "metadata": {},
   "outputs": [
    {
     "data": {
      "text/plain": [
       "array([   0,    1,    2, ..., 1300, 1301, 1302])"
      ]
     },
     "execution_count": 132,
     "metadata": {},
     "output_type": "execute_result"
    }
   ],
   "source": [
    "# Getting the list of the indices\n",
    "df_crypto.index.values"
   ]
  },
  {
   "cell_type": "markdown",
   "metadata": {},
   "source": [
    "## Let's clean the data set to remove a few unnecessary columns and values"
   ]
  },
  {
   "cell_type": "code",
   "execution_count": 133,
   "metadata": {},
   "outputs": [
    {
     "data": {
      "text/html": [
       "<div>\n",
       "<style scoped>\n",
       "    .dataframe tbody tr th:only-of-type {\n",
       "        vertical-align: middle;\n",
       "    }\n",
       "\n",
       "    .dataframe tbody tr th {\n",
       "        vertical-align: top;\n",
       "    }\n",
       "\n",
       "    .dataframe thead th {\n",
       "        text-align: right;\n",
       "    }\n",
       "</style>\n",
       "<table border=\"1\" class=\"dataframe\">\n",
       "  <thead>\n",
       "    <tr style=\"text-align: right;\">\n",
       "      <th></th>\n",
       "      <th>date</th>\n",
       "      <th>open</th>\n",
       "      <th>high</th>\n",
       "      <th>low</th>\n",
       "      <th>close</th>\n",
       "      <th>Volume BTC</th>\n",
       "      <th>Volume USDT</th>\n",
       "      <th>tradecount</th>\n",
       "    </tr>\n",
       "  </thead>\n",
       "  <tbody>\n",
       "    <tr>\n",
       "      <th>1298</th>\n",
       "      <td>2017-08-21</td>\n",
       "      <td>4086.29</td>\n",
       "      <td>4119.62</td>\n",
       "      <td>3911.79</td>\n",
       "      <td>4016.00</td>\n",
       "      <td>685.12</td>\n",
       "      <td>2770592.06</td>\n",
       "      <td>NaN</td>\n",
       "    </tr>\n",
       "    <tr>\n",
       "      <th>1299</th>\n",
       "      <td>2017-08-20</td>\n",
       "      <td>4139.98</td>\n",
       "      <td>4211.08</td>\n",
       "      <td>4032.62</td>\n",
       "      <td>4086.29</td>\n",
       "      <td>463.54</td>\n",
       "      <td>1915636.35</td>\n",
       "      <td>NaN</td>\n",
       "    </tr>\n",
       "    <tr>\n",
       "      <th>1300</th>\n",
       "      <td>2017-08-19</td>\n",
       "      <td>4108.37</td>\n",
       "      <td>4184.69</td>\n",
       "      <td>3850.00</td>\n",
       "      <td>4139.98</td>\n",
       "      <td>371.15</td>\n",
       "      <td>1508239.39</td>\n",
       "      <td>NaN</td>\n",
       "    </tr>\n",
       "    <tr>\n",
       "      <th>1301</th>\n",
       "      <td>2017-08-18</td>\n",
       "      <td>4285.08</td>\n",
       "      <td>4371.52</td>\n",
       "      <td>3938.77</td>\n",
       "      <td>4108.37</td>\n",
       "      <td>1178.07</td>\n",
       "      <td>4994493.56</td>\n",
       "      <td>NaN</td>\n",
       "    </tr>\n",
       "    <tr>\n",
       "      <th>1302</th>\n",
       "      <td>2017-08-17</td>\n",
       "      <td>4469.93</td>\n",
       "      <td>4485.39</td>\n",
       "      <td>4200.74</td>\n",
       "      <td>4285.08</td>\n",
       "      <td>647.86</td>\n",
       "      <td>2812379.11</td>\n",
       "      <td>NaN</td>\n",
       "    </tr>\n",
       "  </tbody>\n",
       "</table>\n",
       "</div>"
      ],
      "text/plain": [
       "            date     open     high      low    close  Volume BTC  Volume USDT  \\\n",
       "1298  2017-08-21  4086.29  4119.62  3911.79  4016.00      685.12   2770592.06   \n",
       "1299  2017-08-20  4139.98  4211.08  4032.62  4086.29      463.54   1915636.35   \n",
       "1300  2017-08-19  4108.37  4184.69  3850.00  4139.98      371.15   1508239.39   \n",
       "1301  2017-08-18  4285.08  4371.52  3938.77  4108.37     1178.07   4994493.56   \n",
       "1302  2017-08-17  4469.93  4485.39  4200.74  4285.08      647.86   2812379.11   \n",
       "\n",
       "      tradecount  \n",
       "1298         NaN  \n",
       "1299         NaN  \n",
       "1300         NaN  \n",
       "1301         NaN  \n",
       "1302         NaN  "
      ]
     },
     "execution_count": 133,
     "metadata": {},
     "output_type": "execute_result"
    }
   ],
   "source": [
    "# Drop Unix timestamp symbol columns  \n",
    "df_crypto.drop(['unix'], axis=1, inplace=True)\n",
    "df_crypto.drop(['symbol'], axis=1, inplace=True)\n",
    "#df_crypto.head(5)\n",
    "df_crypto.tail(5)"
   ]
  },
  {
   "cell_type": "code",
   "execution_count": 134,
   "metadata": {},
   "outputs": [
    {
     "data": {
      "text/html": [
       "<div>\n",
       "<style scoped>\n",
       "    .dataframe tbody tr th:only-of-type {\n",
       "        vertical-align: middle;\n",
       "    }\n",
       "\n",
       "    .dataframe tbody tr th {\n",
       "        vertical-align: top;\n",
       "    }\n",
       "\n",
       "    .dataframe thead th {\n",
       "        text-align: right;\n",
       "    }\n",
       "</style>\n",
       "<table border=\"1\" class=\"dataframe\">\n",
       "  <thead>\n",
       "    <tr style=\"text-align: right;\">\n",
       "      <th></th>\n",
       "      <th>date</th>\n",
       "      <th>open</th>\n",
       "      <th>high</th>\n",
       "      <th>low</th>\n",
       "      <th>close</th>\n",
       "      <th>Volume BTC</th>\n",
       "      <th>Volume USDT</th>\n",
       "      <th>tradecount</th>\n",
       "    </tr>\n",
       "  </thead>\n",
       "  <tbody>\n",
       "    <tr>\n",
       "      <th>1298</th>\n",
       "      <td>2017-08-21</td>\n",
       "      <td>4086.29</td>\n",
       "      <td>4119.62</td>\n",
       "      <td>3911.79</td>\n",
       "      <td>4016.00</td>\n",
       "      <td>685.12</td>\n",
       "      <td>2770592.06</td>\n",
       "      <td>NaN</td>\n",
       "    </tr>\n",
       "    <tr>\n",
       "      <th>1299</th>\n",
       "      <td>2017-08-20</td>\n",
       "      <td>4139.98</td>\n",
       "      <td>4211.08</td>\n",
       "      <td>4032.62</td>\n",
       "      <td>4086.29</td>\n",
       "      <td>463.54</td>\n",
       "      <td>1915636.35</td>\n",
       "      <td>NaN</td>\n",
       "    </tr>\n",
       "    <tr>\n",
       "      <th>1300</th>\n",
       "      <td>2017-08-19</td>\n",
       "      <td>4108.37</td>\n",
       "      <td>4184.69</td>\n",
       "      <td>3850.00</td>\n",
       "      <td>4139.98</td>\n",
       "      <td>371.15</td>\n",
       "      <td>1508239.39</td>\n",
       "      <td>NaN</td>\n",
       "    </tr>\n",
       "    <tr>\n",
       "      <th>1301</th>\n",
       "      <td>2017-08-18</td>\n",
       "      <td>4285.08</td>\n",
       "      <td>4371.52</td>\n",
       "      <td>3938.77</td>\n",
       "      <td>4108.37</td>\n",
       "      <td>1178.07</td>\n",
       "      <td>4994493.56</td>\n",
       "      <td>NaN</td>\n",
       "    </tr>\n",
       "    <tr>\n",
       "      <th>1302</th>\n",
       "      <td>2017-08-17</td>\n",
       "      <td>4469.93</td>\n",
       "      <td>4485.39</td>\n",
       "      <td>4200.74</td>\n",
       "      <td>4285.08</td>\n",
       "      <td>647.86</td>\n",
       "      <td>2812379.11</td>\n",
       "      <td>NaN</td>\n",
       "    </tr>\n",
       "  </tbody>\n",
       "</table>\n",
       "</div>"
      ],
      "text/plain": [
       "           date     open     high      low    close  Volume BTC  Volume USDT  \\\n",
       "1298 2017-08-21  4086.29  4119.62  3911.79  4016.00      685.12   2770592.06   \n",
       "1299 2017-08-20  4139.98  4211.08  4032.62  4086.29      463.54   1915636.35   \n",
       "1300 2017-08-19  4108.37  4184.69  3850.00  4139.98      371.15   1508239.39   \n",
       "1301 2017-08-18  4285.08  4371.52  3938.77  4108.37     1178.07   4994493.56   \n",
       "1302 2017-08-17  4469.93  4485.39  4200.74  4285.08      647.86   2812379.11   \n",
       "\n",
       "      tradecount  \n",
       "1298         NaN  \n",
       "1299         NaN  \n",
       "1300         NaN  \n",
       "1301         NaN  \n",
       "1302         NaN  "
      ]
     },
     "execution_count": 134,
     "metadata": {},
     "output_type": "execute_result"
    }
   ],
   "source": [
    "# remove datetime\n",
    "df_crypto['date'] = df_crypto['date'].apply(pd.to_datetime)\n",
    "df_crypto.tail(5)"
   ]
  },
  {
   "cell_type": "markdown",
   "metadata": {},
   "source": [
    "## 1.  Identify and handle missing values in the new data frame\n",
    "\n",
    "The missing values are automatically converted to Python's default (NaN). We use Python's built-in functions, .isnull(), to identify these missing values. \n"
   ]
  },
  {
   "cell_type": "code",
   "execution_count": 135,
   "metadata": {},
   "outputs": [
    {
     "data": {
      "text/html": [
       "<div>\n",
       "<style scoped>\n",
       "    .dataframe tbody tr th:only-of-type {\n",
       "        vertical-align: middle;\n",
       "    }\n",
       "\n",
       "    .dataframe tbody tr th {\n",
       "        vertical-align: top;\n",
       "    }\n",
       "\n",
       "    .dataframe thead th {\n",
       "        text-align: right;\n",
       "    }\n",
       "</style>\n",
       "<table border=\"1\" class=\"dataframe\">\n",
       "  <thead>\n",
       "    <tr style=\"text-align: right;\">\n",
       "      <th></th>\n",
       "      <th>date</th>\n",
       "      <th>open</th>\n",
       "      <th>high</th>\n",
       "      <th>low</th>\n",
       "      <th>close</th>\n",
       "      <th>Volume BTC</th>\n",
       "      <th>Volume USDT</th>\n",
       "      <th>tradecount</th>\n",
       "    </tr>\n",
       "  </thead>\n",
       "  <tbody>\n",
       "    <tr>\n",
       "      <th>1298</th>\n",
       "      <td>False</td>\n",
       "      <td>False</td>\n",
       "      <td>False</td>\n",
       "      <td>False</td>\n",
       "      <td>False</td>\n",
       "      <td>False</td>\n",
       "      <td>False</td>\n",
       "      <td>True</td>\n",
       "    </tr>\n",
       "    <tr>\n",
       "      <th>1299</th>\n",
       "      <td>False</td>\n",
       "      <td>False</td>\n",
       "      <td>False</td>\n",
       "      <td>False</td>\n",
       "      <td>False</td>\n",
       "      <td>False</td>\n",
       "      <td>False</td>\n",
       "      <td>True</td>\n",
       "    </tr>\n",
       "    <tr>\n",
       "      <th>1300</th>\n",
       "      <td>False</td>\n",
       "      <td>False</td>\n",
       "      <td>False</td>\n",
       "      <td>False</td>\n",
       "      <td>False</td>\n",
       "      <td>False</td>\n",
       "      <td>False</td>\n",
       "      <td>True</td>\n",
       "    </tr>\n",
       "    <tr>\n",
       "      <th>1301</th>\n",
       "      <td>False</td>\n",
       "      <td>False</td>\n",
       "      <td>False</td>\n",
       "      <td>False</td>\n",
       "      <td>False</td>\n",
       "      <td>False</td>\n",
       "      <td>False</td>\n",
       "      <td>True</td>\n",
       "    </tr>\n",
       "    <tr>\n",
       "      <th>1302</th>\n",
       "      <td>False</td>\n",
       "      <td>False</td>\n",
       "      <td>False</td>\n",
       "      <td>False</td>\n",
       "      <td>False</td>\n",
       "      <td>False</td>\n",
       "      <td>False</td>\n",
       "      <td>True</td>\n",
       "    </tr>\n",
       "  </tbody>\n",
       "</table>\n",
       "</div>"
      ],
      "text/plain": [
       "       date   open   high    low  close  Volume BTC  Volume USDT  tradecount\n",
       "1298  False  False  False  False  False       False        False        True\n",
       "1299  False  False  False  False  False       False        False        True\n",
       "1300  False  False  False  False  False       False        False        True\n",
       "1301  False  False  False  False  False       False        False        True\n",
       "1302  False  False  False  False  False       False        False        True"
      ]
     },
     "execution_count": 135,
     "metadata": {},
     "output_type": "execute_result"
    }
   ],
   "source": [
    "#Exploratory data analysis\n",
    "missing_data = df_crypto.isnull()\n",
    "missing_data.tail(5)"
   ]
  },
  {
   "cell_type": "code",
   "execution_count": 136,
   "metadata": {},
   "outputs": [],
   "source": [
    "%matplotlib inline \n",
    "\n",
    "import matplotlib as mpl\n",
    "import matplotlib.pyplot as plt\n",
    "price = df_crypto[['open', 'date']]\n"
   ]
  },
  {
   "cell_type": "code",
   "execution_count": 137,
   "metadata": {},
   "outputs": [
    {
     "data": {
      "text/plain": [
       "<pandas.plotting._core.PlotAccessor object at 0x7f911f333320>"
      ]
     },
     "execution_count": 137,
     "metadata": {},
     "output_type": "execute_result"
    }
   ],
   "source": [
    "price.plot"
   ]
  },
  {
   "cell_type": "markdown",
   "metadata": {},
   "source": [
    "## 1.2 Count missing values in each column\n",
    "By using a for loop in Python, we will figure out the number of missing values in each column. In the above table, \"True\" represents a missing value, \"False\" indicates whether the value is present in the dataset.  \n",
    "\n",
    "In, addition we will also calculate the percentage of missing values for each feature.  \n",
    "\n",
    "Any feature which contains more than three-quarter (75%) of missing values will be dropped from the dataset."
   ]
  },
  {
   "cell_type": "code",
   "execution_count": 138,
   "metadata": {},
   "outputs": [
    {
     "name": "stdout",
     "output_type": "stream",
     "text": [
      "date\n",
      "False    1.010861\n",
      "Name: date, dtype: float64\n",
      "2017-12-18    2\n",
      "2019-07-06    1\n",
      "2018-07-22    1\n",
      "2018-10-05    1\n",
      "2020-04-15    1\n",
      "             ..\n",
      "2019-05-18    1\n",
      "2020-09-16    1\n",
      "2018-01-13    1\n",
      "2019-06-30    1\n",
      "2020-02-11    1\n",
      "Name: date, Length: 1302, dtype: int64\n",
      "\n",
      "open\n",
      "False    1.010861\n",
      "Name: open, dtype: float64\n",
      "13500.00    2\n",
      "9230.00     2\n",
      "8346.86     1\n",
      "9192.93     1\n",
      "6065.89     1\n",
      "           ..\n",
      "52375.18    1\n",
      "3590.57     1\n",
      "18541.29    1\n",
      "7738.58     1\n",
      "7946.89     1\n",
      "Name: open, Length: 1301, dtype: int64\n",
      "\n",
      "high\n",
      "False    1.010861\n",
      "Name: high, dtype: float64\n",
      "6360.00     3\n",
      "7750.00     3\n",
      "9395.00     3\n",
      "10500.00    2\n",
      "7700.00     2\n",
      "           ..\n",
      "8134.73     1\n",
      "4006.81     1\n",
      "4450.38     1\n",
      "36415.31    1\n",
      "15840.00    1\n",
      "Name: high, Length: 1258, dtype: int64\n",
      "\n",
      "low\n",
      "False    1.010861\n",
      "Name: low, dtype: float64\n",
      "10200.00    3\n",
      "10080.00    3\n",
      "8000.00     3\n",
      "6901.00     2\n",
      "8005.00     2\n",
      "           ..\n",
      "7015.00     1\n",
      "4222.94     1\n",
      "12812.00    1\n",
      "3830.00     1\n",
      "11200.00    1\n",
      "Name: low, Length: 1258, dtype: int64\n",
      "\n",
      "close\n",
      "False    1.010861\n",
      "Name: close, dtype: float64\n",
      "18856.25    2\n",
      "6700.00     2\n",
      "10564.49    1\n",
      "16150.03    1\n",
      "5689.99     1\n",
      "           ..\n",
      "4378.51     1\n",
      "15957.00    1\n",
      "8733.27     1\n",
      "3951.64     1\n",
      "18368.00    1\n",
      "Name: close, Length: 1301, dtype: int64\n",
      "\n",
      "Volume BTC\n",
      "False    1.010861\n",
      "Name: Volume BTC, dtype: float64\n",
      "44865.105835     1\n",
      "29479.598230     1\n",
      "231827.005626    1\n",
      "26385.757454     1\n",
      "63289.251219     1\n",
      "                ..\n",
      "28054.358741     1\n",
      "40831.417131     1\n",
      "27455.011920     1\n",
      "648.940000       1\n",
      "112622.642640    1\n",
      "Name: Volume BTC, Length: 1303, dtype: int64\n",
      "\n",
      "Volume USDT\n",
      "False    1.010861\n",
      "Name: Volume USDT, dtype: float64\n",
      "2.754479e+08    1\n",
      "1.097805e+09    1\n",
      "6.185275e+08    1\n",
      "1.046871e+07    1\n",
      "2.468076e+08    1\n",
      "               ..\n",
      "3.954876e+08    1\n",
      "4.882208e+08    1\n",
      "7.976223e+08    1\n",
      "9.677533e+05    1\n",
      "2.385220e+08    1\n",
      "Name: Volume USDT, Length: 1303, dtype: int64\n",
      "\n",
      "tradecount\n",
      "False    0.914663\n",
      "True     0.096199\n",
      "Name: tradecount, dtype: float64\n",
      "350662.0     2\n",
      "256384.0     1\n",
      "446558.0     1\n",
      "194733.0     1\n",
      "210494.0     1\n",
      "            ..\n",
      "218538.0     1\n",
      "364212.0     1\n",
      "1403608.0    1\n",
      "366263.0     1\n",
      "441935.0     1\n",
      "Name: tradecount, Length: 1178, dtype: int64\n",
      "\n"
     ]
    }
   ],
   "source": [
    "for column in missing_data.columns.values.tolist():\n",
    "    print(column)\n",
    "    total_observations = 1289 # total of accidents by using the severity code.\n",
    "    print (missing_data[column].value_counts()/ total_observations)\n",
    "    print(df_crypto[column].value_counts())\n",
    "    print(\"\")   "
   ]
  },
  {
   "cell_type": "code",
   "execution_count": 139,
   "metadata": {},
   "outputs": [
    {
     "data": {
      "text/html": [
       "<div>\n",
       "<style scoped>\n",
       "    .dataframe tbody tr th:only-of-type {\n",
       "        vertical-align: middle;\n",
       "    }\n",
       "\n",
       "    .dataframe tbody tr th {\n",
       "        vertical-align: top;\n",
       "    }\n",
       "\n",
       "    .dataframe thead th {\n",
       "        text-align: right;\n",
       "    }\n",
       "</style>\n",
       "<table border=\"1\" class=\"dataframe\">\n",
       "  <thead>\n",
       "    <tr style=\"text-align: right;\">\n",
       "      <th></th>\n",
       "      <th>open</th>\n",
       "      <th>high</th>\n",
       "      <th>low</th>\n",
       "      <th>close</th>\n",
       "      <th>Volume BTC</th>\n",
       "      <th>Volume USDT</th>\n",
       "      <th>tradecount</th>\n",
       "    </tr>\n",
       "  </thead>\n",
       "  <tbody>\n",
       "    <tr>\n",
       "      <th>count</th>\n",
       "      <td>1303.000000</td>\n",
       "      <td>1303.000000</td>\n",
       "      <td>1303.000000</td>\n",
       "      <td>1303.000000</td>\n",
       "      <td>1303.000000</td>\n",
       "      <td>1.303000e+03</td>\n",
       "      <td>1.179000e+03</td>\n",
       "    </tr>\n",
       "    <tr>\n",
       "      <th>mean</th>\n",
       "      <td>10282.293546</td>\n",
       "      <td>10617.728872</td>\n",
       "      <td>9917.057391</td>\n",
       "      <td>10321.522694</td>\n",
       "      <td>47242.172420</td>\n",
       "      <td>5.964112e+08</td>\n",
       "      <td>5.869040e+05</td>\n",
       "    </tr>\n",
       "    <tr>\n",
       "      <th>std</th>\n",
       "      <td>8392.833289</td>\n",
       "      <td>8773.985045</td>\n",
       "      <td>8007.080606</td>\n",
       "      <td>8484.560562</td>\n",
       "      <td>35742.824251</td>\n",
       "      <td>9.351276e+08</td>\n",
       "      <td>5.846163e+05</td>\n",
       "    </tr>\n",
       "    <tr>\n",
       "      <th>min</th>\n",
       "      <td>3189.020000</td>\n",
       "      <td>3276.500000</td>\n",
       "      <td>2817.000000</td>\n",
       "      <td>3189.020000</td>\n",
       "      <td>225.760000</td>\n",
       "      <td>9.677533e+05</td>\n",
       "      <td>1.241700e+04</td>\n",
       "    </tr>\n",
       "    <tr>\n",
       "      <th>25%</th>\n",
       "      <td>6455.330000</td>\n",
       "      <td>6580.500000</td>\n",
       "      <td>6313.035000</td>\n",
       "      <td>6460.330000</td>\n",
       "      <td>25896.284121</td>\n",
       "      <td>1.784091e+08</td>\n",
       "      <td>2.210575e+05</td>\n",
       "    </tr>\n",
       "    <tr>\n",
       "      <th>50%</th>\n",
       "      <td>8292.670000</td>\n",
       "      <td>8543.000000</td>\n",
       "      <td>8083.010000</td>\n",
       "      <td>8300.090000</td>\n",
       "      <td>39924.745141</td>\n",
       "      <td>3.201768e+08</td>\n",
       "      <td>3.747600e+05</td>\n",
       "    </tr>\n",
       "    <tr>\n",
       "      <th>75%</th>\n",
       "      <td>10526.680000</td>\n",
       "      <td>10819.420000</td>\n",
       "      <td>10171.965000</td>\n",
       "      <td>10535.835000</td>\n",
       "      <td>61427.996295</td>\n",
       "      <td>5.599294e+08</td>\n",
       "      <td>6.928245e+05</td>\n",
       "    </tr>\n",
       "    <tr>\n",
       "      <th>max</th>\n",
       "      <td>57412.350000</td>\n",
       "      <td>58352.800000</td>\n",
       "      <td>55477.590000</td>\n",
       "      <td>57408.570000</td>\n",
       "      <td>402201.673764</td>\n",
       "      <td>8.426880e+09</td>\n",
       "      <td>4.431451e+06</td>\n",
       "    </tr>\n",
       "  </tbody>\n",
       "</table>\n",
       "</div>"
      ],
      "text/plain": [
       "               open          high           low         close     Volume BTC  \\\n",
       "count   1303.000000   1303.000000   1303.000000   1303.000000    1303.000000   \n",
       "mean   10282.293546  10617.728872   9917.057391  10321.522694   47242.172420   \n",
       "std     8392.833289   8773.985045   8007.080606   8484.560562   35742.824251   \n",
       "min     3189.020000   3276.500000   2817.000000   3189.020000     225.760000   \n",
       "25%     6455.330000   6580.500000   6313.035000   6460.330000   25896.284121   \n",
       "50%     8292.670000   8543.000000   8083.010000   8300.090000   39924.745141   \n",
       "75%    10526.680000  10819.420000  10171.965000  10535.835000   61427.996295   \n",
       "max    57412.350000  58352.800000  55477.590000  57408.570000  402201.673764   \n",
       "\n",
       "        Volume USDT    tradecount  \n",
       "count  1.303000e+03  1.179000e+03  \n",
       "mean   5.964112e+08  5.869040e+05  \n",
       "std    9.351276e+08  5.846163e+05  \n",
       "min    9.677533e+05  1.241700e+04  \n",
       "25%    1.784091e+08  2.210575e+05  \n",
       "50%    3.201768e+08  3.747600e+05  \n",
       "75%    5.599294e+08  6.928245e+05  \n",
       "max    8.426880e+09  4.431451e+06  "
      ]
     },
     "execution_count": 139,
     "metadata": {},
     "output_type": "execute_result"
    }
   ],
   "source": [
    "df_crypto.describe()"
   ]
  },
  {
   "cell_type": "markdown",
   "metadata": {},
   "source": [
    "## Calculate the mean value for 'tradecount' column"
   ]
  },
  {
   "cell_type": "code",
   "execution_count": 140,
   "metadata": {},
   "outputs": [
    {
     "name": "stdout",
     "output_type": "stream",
     "text": [
      "Average of bore: 586904.0466497032\n"
     ]
    }
   ],
   "source": [
    "avg_tradecount=df_crypto['tradecount'].astype('float').mean(axis=0)\n",
    "print(\"Average of bore:\", avg_tradecount)"
   ]
  },
  {
   "cell_type": "markdown",
   "metadata": {},
   "source": [
    "## Calculate the median value for 'tradecount' column"
   ]
  },
  {
   "cell_type": "code",
   "execution_count": 141,
   "metadata": {},
   "outputs": [
    {
     "name": "stdout",
     "output_type": "stream",
     "text": [
      "Average of bore: 374760.0\n"
     ]
    }
   ],
   "source": [
    "median_tradecount=df_crypto['tradecount'].astype('float').median(axis=0)\n",
    "print(\"Average of bore:\", median_tradecount)"
   ]
  },
  {
   "cell_type": "code",
   "execution_count": 142,
   "metadata": {},
   "outputs": [
    {
     "data": {
      "text/html": [
       "<div>\n",
       "<style scoped>\n",
       "    .dataframe tbody tr th:only-of-type {\n",
       "        vertical-align: middle;\n",
       "    }\n",
       "\n",
       "    .dataframe tbody tr th {\n",
       "        vertical-align: top;\n",
       "    }\n",
       "\n",
       "    .dataframe thead th {\n",
       "        text-align: right;\n",
       "    }\n",
       "</style>\n",
       "<table border=\"1\" class=\"dataframe\">\n",
       "  <thead>\n",
       "    <tr style=\"text-align: right;\">\n",
       "      <th></th>\n",
       "      <th>date</th>\n",
       "      <th>open</th>\n",
       "      <th>high</th>\n",
       "      <th>low</th>\n",
       "      <th>close</th>\n",
       "      <th>Volume BTC</th>\n",
       "      <th>Volume USDT</th>\n",
       "      <th>tradecount</th>\n",
       "    </tr>\n",
       "  </thead>\n",
       "  <tbody>\n",
       "    <tr>\n",
       "      <th>1298</th>\n",
       "      <td>2017-08-21</td>\n",
       "      <td>4086.29</td>\n",
       "      <td>4119.62</td>\n",
       "      <td>3911.79</td>\n",
       "      <td>4016.00</td>\n",
       "      <td>685.12</td>\n",
       "      <td>2770592.06</td>\n",
       "      <td>NaN</td>\n",
       "    </tr>\n",
       "    <tr>\n",
       "      <th>1299</th>\n",
       "      <td>2017-08-20</td>\n",
       "      <td>4139.98</td>\n",
       "      <td>4211.08</td>\n",
       "      <td>4032.62</td>\n",
       "      <td>4086.29</td>\n",
       "      <td>463.54</td>\n",
       "      <td>1915636.35</td>\n",
       "      <td>NaN</td>\n",
       "    </tr>\n",
       "    <tr>\n",
       "      <th>1300</th>\n",
       "      <td>2017-08-19</td>\n",
       "      <td>4108.37</td>\n",
       "      <td>4184.69</td>\n",
       "      <td>3850.00</td>\n",
       "      <td>4139.98</td>\n",
       "      <td>371.15</td>\n",
       "      <td>1508239.39</td>\n",
       "      <td>NaN</td>\n",
       "    </tr>\n",
       "    <tr>\n",
       "      <th>1301</th>\n",
       "      <td>2017-08-18</td>\n",
       "      <td>4285.08</td>\n",
       "      <td>4371.52</td>\n",
       "      <td>3938.77</td>\n",
       "      <td>4108.37</td>\n",
       "      <td>1178.07</td>\n",
       "      <td>4994493.56</td>\n",
       "      <td>NaN</td>\n",
       "    </tr>\n",
       "    <tr>\n",
       "      <th>1302</th>\n",
       "      <td>2017-08-17</td>\n",
       "      <td>4469.93</td>\n",
       "      <td>4485.39</td>\n",
       "      <td>4200.74</td>\n",
       "      <td>4285.08</td>\n",
       "      <td>647.86</td>\n",
       "      <td>2812379.11</td>\n",
       "      <td>NaN</td>\n",
       "    </tr>\n",
       "  </tbody>\n",
       "</table>\n",
       "</div>"
      ],
      "text/plain": [
       "           date     open     high      low    close  Volume BTC  Volume USDT  \\\n",
       "1298 2017-08-21  4086.29  4119.62  3911.79  4016.00      685.12   2770592.06   \n",
       "1299 2017-08-20  4139.98  4211.08  4032.62  4086.29      463.54   1915636.35   \n",
       "1300 2017-08-19  4108.37  4184.69  3850.00  4139.98      371.15   1508239.39   \n",
       "1301 2017-08-18  4285.08  4371.52  3938.77  4108.37     1178.07   4994493.56   \n",
       "1302 2017-08-17  4469.93  4485.39  4200.74  4285.08      647.86   2812379.11   \n",
       "\n",
       "      tradecount  \n",
       "1298         NaN  \n",
       "1299         NaN  \n",
       "1300         NaN  \n",
       "1301         NaN  \n",
       "1302         NaN  "
      ]
     },
     "execution_count": 142,
     "metadata": {},
     "output_type": "execute_result"
    }
   ],
   "source": [
    "df_crypto.tail(5)"
   ]
  },
  {
   "cell_type": "code",
   "execution_count": 143,
   "metadata": {},
   "outputs": [],
   "source": [
    "#Replace NaN by mean value\n",
    "df_crypto[\"tradecount\"].replace(np.nan, median_tradecount, inplace=True)"
   ]
  },
  {
   "cell_type": "markdown",
   "metadata": {},
   "source": [
    "## 2. Checking for no missing values"
   ]
  },
  {
   "cell_type": "code",
   "execution_count": 144,
   "metadata": {},
   "outputs": [
    {
     "data": {
      "text/html": [
       "<div>\n",
       "<style scoped>\n",
       "    .dataframe tbody tr th:only-of-type {\n",
       "        vertical-align: middle;\n",
       "    }\n",
       "\n",
       "    .dataframe tbody tr th {\n",
       "        vertical-align: top;\n",
       "    }\n",
       "\n",
       "    .dataframe thead th {\n",
       "        text-align: right;\n",
       "    }\n",
       "</style>\n",
       "<table border=\"1\" class=\"dataframe\">\n",
       "  <thead>\n",
       "    <tr style=\"text-align: right;\">\n",
       "      <th></th>\n",
       "      <th>date</th>\n",
       "      <th>open</th>\n",
       "      <th>high</th>\n",
       "      <th>low</th>\n",
       "      <th>close</th>\n",
       "      <th>Volume BTC</th>\n",
       "      <th>Volume USDT</th>\n",
       "      <th>tradecount</th>\n",
       "    </tr>\n",
       "  </thead>\n",
       "  <tbody>\n",
       "    <tr>\n",
       "      <th>1298</th>\n",
       "      <td>2017-08-21</td>\n",
       "      <td>4086.29</td>\n",
       "      <td>4119.62</td>\n",
       "      <td>3911.79</td>\n",
       "      <td>4016.00</td>\n",
       "      <td>685.12</td>\n",
       "      <td>2770592.06</td>\n",
       "      <td>374760.0</td>\n",
       "    </tr>\n",
       "    <tr>\n",
       "      <th>1299</th>\n",
       "      <td>2017-08-20</td>\n",
       "      <td>4139.98</td>\n",
       "      <td>4211.08</td>\n",
       "      <td>4032.62</td>\n",
       "      <td>4086.29</td>\n",
       "      <td>463.54</td>\n",
       "      <td>1915636.35</td>\n",
       "      <td>374760.0</td>\n",
       "    </tr>\n",
       "    <tr>\n",
       "      <th>1300</th>\n",
       "      <td>2017-08-19</td>\n",
       "      <td>4108.37</td>\n",
       "      <td>4184.69</td>\n",
       "      <td>3850.00</td>\n",
       "      <td>4139.98</td>\n",
       "      <td>371.15</td>\n",
       "      <td>1508239.39</td>\n",
       "      <td>374760.0</td>\n",
       "    </tr>\n",
       "    <tr>\n",
       "      <th>1301</th>\n",
       "      <td>2017-08-18</td>\n",
       "      <td>4285.08</td>\n",
       "      <td>4371.52</td>\n",
       "      <td>3938.77</td>\n",
       "      <td>4108.37</td>\n",
       "      <td>1178.07</td>\n",
       "      <td>4994493.56</td>\n",
       "      <td>374760.0</td>\n",
       "    </tr>\n",
       "    <tr>\n",
       "      <th>1302</th>\n",
       "      <td>2017-08-17</td>\n",
       "      <td>4469.93</td>\n",
       "      <td>4485.39</td>\n",
       "      <td>4200.74</td>\n",
       "      <td>4285.08</td>\n",
       "      <td>647.86</td>\n",
       "      <td>2812379.11</td>\n",
       "      <td>374760.0</td>\n",
       "    </tr>\n",
       "  </tbody>\n",
       "</table>\n",
       "</div>"
      ],
      "text/plain": [
       "           date     open     high      low    close  Volume BTC  Volume USDT  \\\n",
       "1298 2017-08-21  4086.29  4119.62  3911.79  4016.00      685.12   2770592.06   \n",
       "1299 2017-08-20  4139.98  4211.08  4032.62  4086.29      463.54   1915636.35   \n",
       "1300 2017-08-19  4108.37  4184.69  3850.00  4139.98      371.15   1508239.39   \n",
       "1301 2017-08-18  4285.08  4371.52  3938.77  4108.37     1178.07   4994493.56   \n",
       "1302 2017-08-17  4469.93  4485.39  4200.74  4285.08      647.86   2812379.11   \n",
       "\n",
       "      tradecount  \n",
       "1298    374760.0  \n",
       "1299    374760.0  \n",
       "1300    374760.0  \n",
       "1301    374760.0  \n",
       "1302    374760.0  "
      ]
     },
     "execution_count": 144,
     "metadata": {},
     "output_type": "execute_result"
    }
   ],
   "source": [
    "df_crypto.tail(5)"
   ]
  },
  {
   "cell_type": "code",
   "execution_count": 145,
   "metadata": {},
   "outputs": [
    {
     "data": {
      "text/html": [
       "<div>\n",
       "<style scoped>\n",
       "    .dataframe tbody tr th:only-of-type {\n",
       "        vertical-align: middle;\n",
       "    }\n",
       "\n",
       "    .dataframe tbody tr th {\n",
       "        vertical-align: top;\n",
       "    }\n",
       "\n",
       "    .dataframe thead th {\n",
       "        text-align: right;\n",
       "    }\n",
       "</style>\n",
       "<table border=\"1\" class=\"dataframe\">\n",
       "  <thead>\n",
       "    <tr style=\"text-align: right;\">\n",
       "      <th></th>\n",
       "      <th>0</th>\n",
       "    </tr>\n",
       "  </thead>\n",
       "  <tbody>\n",
       "    <tr>\n",
       "      <th>date</th>\n",
       "      <td>0</td>\n",
       "    </tr>\n",
       "    <tr>\n",
       "      <th>open</th>\n",
       "      <td>0</td>\n",
       "    </tr>\n",
       "    <tr>\n",
       "      <th>high</th>\n",
       "      <td>0</td>\n",
       "    </tr>\n",
       "    <tr>\n",
       "      <th>low</th>\n",
       "      <td>0</td>\n",
       "    </tr>\n",
       "    <tr>\n",
       "      <th>close</th>\n",
       "      <td>0</td>\n",
       "    </tr>\n",
       "    <tr>\n",
       "      <th>Volume BTC</th>\n",
       "      <td>0</td>\n",
       "    </tr>\n",
       "    <tr>\n",
       "      <th>Volume USDT</th>\n",
       "      <td>0</td>\n",
       "    </tr>\n",
       "    <tr>\n",
       "      <th>tradecount</th>\n",
       "      <td>0</td>\n",
       "    </tr>\n",
       "  </tbody>\n",
       "</table>\n",
       "</div>"
      ],
      "text/plain": [
       "             0\n",
       "date         0\n",
       "open         0\n",
       "high         0\n",
       "low          0\n",
       "close        0\n",
       "Volume BTC   0\n",
       "Volume USDT  0\n",
       "tradecount   0"
      ]
     },
     "execution_count": 145,
     "metadata": {},
     "output_type": "execute_result"
    }
   ],
   "source": [
    "df_crypto.isnull().sum().to_frame()"
   ]
  },
  {
   "cell_type": "markdown",
   "metadata": {},
   "source": [
    "## 3. Data Format"
   ]
  },
  {
   "cell_type": "code",
   "execution_count": 146,
   "metadata": {},
   "outputs": [
    {
     "data": {
      "text/plain": [
       "date           datetime64[ns]\n",
       "open                  float64\n",
       "high                  float64\n",
       "low                   float64\n",
       "close                 float64\n",
       "Volume BTC            float64\n",
       "Volume USDT           float64\n",
       "tradecount            float64\n",
       "dtype: object"
      ]
     },
     "execution_count": 146,
     "metadata": {},
     "output_type": "execute_result"
    }
   ],
   "source": [
    "# Lets list the data types for each column\n",
    "df_crypto.dtypes"
   ]
  },
  {
   "cell_type": "markdown",
   "metadata": {},
   "source": [
    "## 4. Data Visualisation"
   ]
  },
  {
   "cell_type": "markdown",
   "metadata": {},
   "source": [
    "### 4.1 For consistency, ensure that all column labels of type string"
   ]
  },
  {
   "cell_type": "code",
   "execution_count": 147,
   "metadata": {},
   "outputs": [
    {
     "data": {
      "text/plain": [
       "True"
      ]
     },
     "execution_count": 147,
     "metadata": {},
     "output_type": "execute_result"
    }
   ],
   "source": [
    "# let's examine the types of the column labels\n",
    "all(isinstance(column, str) for column in df_crypto.columns)"
   ]
  },
  {
   "cell_type": "markdown",
   "metadata": {},
   "source": [
    "All the columns are of type of string, as the above code returns \"True\""
   ]
  },
  {
   "cell_type": "markdown",
   "metadata": {},
   "source": [
    "df_crypto.columns = list(map(str, df_crypto.columns))\n",
    "\n",
    "# let's check the column labels types now\n",
    "all(isinstance(column, str) for column in df_crypto.columns)"
   ]
  },
  {
   "cell_type": "markdown",
   "metadata": {},
   "source": [
    "### 4.2 Set the date name as index - useful for quickly looking up date using .loc metho"
   ]
  },
  {
   "cell_type": "code",
   "execution_count": 148,
   "metadata": {},
   "outputs": [],
   "source": [
    "#df_crypto[[\"date\"]] = df_crypto[[\"date\"]].astype(\"int\")"
   ]
  },
  {
   "cell_type": "code",
   "execution_count": 149,
   "metadata": {},
   "outputs": [
    {
     "data": {
      "text/plain": [
       "date           datetime64[ns]\n",
       "open                  float64\n",
       "high                  float64\n",
       "low                   float64\n",
       "close                 float64\n",
       "Volume BTC            float64\n",
       "Volume USDT           float64\n",
       "tradecount            float64\n",
       "dtype: object"
      ]
     },
     "execution_count": 149,
     "metadata": {},
     "output_type": "execute_result"
    }
   ],
   "source": [
    "df_crypto.dtypes"
   ]
  },
  {
   "cell_type": "code",
   "execution_count": 150,
   "metadata": {},
   "outputs": [
    {
     "data": {
      "text/html": [
       "<div>\n",
       "<style scoped>\n",
       "    .dataframe tbody tr th:only-of-type {\n",
       "        vertical-align: middle;\n",
       "    }\n",
       "\n",
       "    .dataframe tbody tr th {\n",
       "        vertical-align: top;\n",
       "    }\n",
       "\n",
       "    .dataframe thead th {\n",
       "        text-align: right;\n",
       "    }\n",
       "</style>\n",
       "<table border=\"1\" class=\"dataframe\">\n",
       "  <thead>\n",
       "    <tr style=\"text-align: right;\">\n",
       "      <th></th>\n",
       "      <th>open</th>\n",
       "      <th>high</th>\n",
       "      <th>low</th>\n",
       "      <th>close</th>\n",
       "      <th>Volume BTC</th>\n",
       "      <th>Volume USDT</th>\n",
       "      <th>tradecount</th>\n",
       "    </tr>\n",
       "    <tr>\n",
       "      <th>date</th>\n",
       "      <th></th>\n",
       "      <th></th>\n",
       "      <th></th>\n",
       "      <th></th>\n",
       "      <th></th>\n",
       "      <th></th>\n",
       "      <th></th>\n",
       "    </tr>\n",
       "  </thead>\n",
       "  <tbody>\n",
       "    <tr>\n",
       "      <th>2021-03-10</th>\n",
       "      <td>54874.67</td>\n",
       "      <td>55577.78</td>\n",
       "      <td>54782.93</td>\n",
       "      <td>55575.19</td>\n",
       "      <td>2706.867241</td>\n",
       "      <td>1.490111e+08</td>\n",
       "      <td>62123.0</td>\n",
       "    </tr>\n",
       "    <tr>\n",
       "      <th>2021-03-09</th>\n",
       "      <td>52375.18</td>\n",
       "      <td>54895.00</td>\n",
       "      <td>51789.41</td>\n",
       "      <td>54884.50</td>\n",
       "      <td>71656.737076</td>\n",
       "      <td>3.861451e+09</td>\n",
       "      <td>2194398.0</td>\n",
       "    </tr>\n",
       "    <tr>\n",
       "      <th>2021-03-08</th>\n",
       "      <td>50959.11</td>\n",
       "      <td>52402.78</td>\n",
       "      <td>49274.67</td>\n",
       "      <td>52375.17</td>\n",
       "      <td>66987.359664</td>\n",
       "      <td>3.400848e+09</td>\n",
       "      <td>1999401.0</td>\n",
       "    </tr>\n",
       "    <tr>\n",
       "      <th>2021-03-07</th>\n",
       "      <td>48882.20</td>\n",
       "      <td>51450.03</td>\n",
       "      <td>48882.20</td>\n",
       "      <td>50971.75</td>\n",
       "      <td>55235.028032</td>\n",
       "      <td>2.778876e+09</td>\n",
       "      <td>1758101.0</td>\n",
       "    </tr>\n",
       "    <tr>\n",
       "      <th>2021-03-06</th>\n",
       "      <td>48746.81</td>\n",
       "      <td>49200.00</td>\n",
       "      <td>47070.00</td>\n",
       "      <td>48882.20</td>\n",
       "      <td>44399.234242</td>\n",
       "      <td>2.143911e+09</td>\n",
       "      <td>1476474.0</td>\n",
       "    </tr>\n",
       "  </tbody>\n",
       "</table>\n",
       "</div>"
      ],
      "text/plain": [
       "                open      high       low     close    Volume BTC  \\\n",
       "date                                                               \n",
       "2021-03-10  54874.67  55577.78  54782.93  55575.19   2706.867241   \n",
       "2021-03-09  52375.18  54895.00  51789.41  54884.50  71656.737076   \n",
       "2021-03-08  50959.11  52402.78  49274.67  52375.17  66987.359664   \n",
       "2021-03-07  48882.20  51450.03  48882.20  50971.75  55235.028032   \n",
       "2021-03-06  48746.81  49200.00  47070.00  48882.20  44399.234242   \n",
       "\n",
       "             Volume USDT  tradecount  \n",
       "date                                  \n",
       "2021-03-10  1.490111e+08     62123.0  \n",
       "2021-03-09  3.861451e+09   2194398.0  \n",
       "2021-03-08  3.400848e+09   1999401.0  \n",
       "2021-03-07  2.778876e+09   1758101.0  \n",
       "2021-03-06  2.143911e+09   1476474.0  "
      ]
     },
     "execution_count": 150,
     "metadata": {},
     "output_type": "execute_result"
    }
   ],
   "source": [
    "df_crypto.set_index('date', inplace=True)\n",
    "df_crypto.head(5)"
   ]
  },
  {
   "cell_type": "markdown",
   "metadata": {},
   "source": [
    "# To remove the name of the index\n",
    "df_crypto.index.name = None\n",
    "df_crypto.head(3)"
   ]
  },
  {
   "cell_type": "code",
   "execution_count": 151,
   "metadata": {},
   "outputs": [
    {
     "name": "stdout",
     "output_type": "stream",
     "text": [
      "                open      high      low     close    Volume BTC   Volume USDT  \\\n",
      "date                                                                            \n",
      "2021-02-28  46103.67  46638.46  43000.0  45135.66  83055.369042  3.708360e+09   \n",
      "\n",
      "            tradecount  \n",
      "date                    \n",
      "2021-02-28   1838345.0  \n"
     ]
    }
   ],
   "source": [
    "# 1. the full row data (all columns)\n",
    "print(df_crypto.loc['2021-02-28'])"
   ]
  },
  {
   "cell_type": "code",
   "execution_count": 152,
   "metadata": {},
   "outputs": [
    {
     "data": {
      "text/plain": [
       "open           float64\n",
       "high           float64\n",
       "low            float64\n",
       "close          float64\n",
       "Volume BTC     float64\n",
       "Volume USDT    float64\n",
       "tradecount     float64\n",
       "dtype: object"
      ]
     },
     "execution_count": 152,
     "metadata": {},
     "output_type": "execute_result"
    }
   ],
   "source": [
    "#df_crypto.columns = list(map(str, df_crypto.columns))\n",
    "df_crypto.dtypes"
   ]
  },
  {
   "cell_type": "code",
   "execution_count": 153,
   "metadata": {},
   "outputs": [
    {
     "name": "stdout",
     "output_type": "stream",
     "text": [
      "date\n",
      "2021-02-28    46103.67\n",
      "Name: open, dtype: float64\n"
     ]
    }
   ],
   "source": [
    "print(df_crypto.loc['2021-02-28', 'open'])"
   ]
  },
  {
   "cell_type": "code",
   "execution_count": 154,
   "metadata": {},
   "outputs": [],
   "source": [
    "df_crypto.columns = list(map(str, df_crypto.columns))"
   ]
  },
  {
   "cell_type": "code",
   "execution_count": 155,
   "metadata": {},
   "outputs": [
    {
     "data": {
      "text/plain": [
       "['2017', '2018', '2019', '2020']"
      ]
     },
     "execution_count": 155,
     "metadata": {},
     "output_type": "execute_result"
    }
   ],
   "source": [
    "date = list(map(str, range(2017, 2021)))\n",
    "date"
   ]
  },
  {
   "cell_type": "markdown",
   "metadata": {},
   "source": [
    "## 5. Volume Magnitude"
   ]
  },
  {
   "cell_type": "code",
   "execution_count": 156,
   "metadata": {},
   "outputs": [
    {
     "data": {
      "text/plain": [
       "Text(0.5, 1.0, 'Volume USDT bins')"
      ]
     },
     "execution_count": 156,
     "metadata": {},
     "output_type": "execute_result"
    },
    {
     "data": {
      "image/png": "[encoded data removed]",
      "text/plain": [
       "<Figure size 432x288 with 1 Axes>"
      ]
     },
     "metadata": {
      "needs_background": "light"
     },
     "output_type": "display_data"
    }
   ],
   "source": [
    "%matplotlib inline\n",
    "import matplotlib as plt\n",
    "from matplotlib import pyplot\n",
    "plt.pyplot.hist(df_crypto[\"Volume USDT\"])\n",
    "\n",
    "# set x/y labels and plot title\n",
    "plt.pyplot.xlabel(\"Volume USDT\")\n",
    "plt.pyplot.ylabel(\"np.sum\")\n",
    "plt.pyplot.title(\"Volume USDT bins\")"
   ]
  },
  {
   "cell_type": "code",
   "execution_count": 157,
   "metadata": {},
   "outputs": [
    {
     "data": {
      "text/plain": [
       "array([9.67753320e+05, 2.80960509e+09, 5.61824243e+09, 8.42687977e+09])"
      ]
     },
     "execution_count": 157,
     "metadata": {},
     "output_type": "execute_result"
    }
   ],
   "source": [
    "bins = np.linspace(min(df_crypto[\"Volume USDT\"]), max(df_crypto[\"Volume USDT\"]), 4)\n",
    "bins"
   ]
  },
  {
   "cell_type": "code",
   "execution_count": 158,
   "metadata": {},
   "outputs": [],
   "source": [
    "group_names = ['Low', 'Medium', 'High']"
   ]
  },
  {
   "cell_type": "code",
   "execution_count": 159,
   "metadata": {},
   "outputs": [
    {
     "data": {
      "text/html": [
       "<div>\n",
       "<style scoped>\n",
       "    .dataframe tbody tr th:only-of-type {\n",
       "        vertical-align: middle;\n",
       "    }\n",
       "\n",
       "    .dataframe tbody tr th {\n",
       "        vertical-align: top;\n",
       "    }\n",
       "\n",
       "    .dataframe thead th {\n",
       "        text-align: right;\n",
       "    }\n",
       "</style>\n",
       "<table border=\"1\" class=\"dataframe\">\n",
       "  <thead>\n",
       "    <tr style=\"text-align: right;\">\n",
       "      <th></th>\n",
       "      <th>Volume USDT</th>\n",
       "      <th>Volume USDT-binned</th>\n",
       "    </tr>\n",
       "    <tr>\n",
       "      <th>date</th>\n",
       "      <th></th>\n",
       "      <th></th>\n",
       "    </tr>\n",
       "  </thead>\n",
       "  <tbody>\n",
       "    <tr>\n",
       "      <th>2021-03-10</th>\n",
       "      <td>1.490111e+08</td>\n",
       "      <td>Low</td>\n",
       "    </tr>\n",
       "    <tr>\n",
       "      <th>2021-03-09</th>\n",
       "      <td>3.861451e+09</td>\n",
       "      <td>Medium</td>\n",
       "    </tr>\n",
       "    <tr>\n",
       "      <th>2021-03-08</th>\n",
       "      <td>3.400848e+09</td>\n",
       "      <td>Medium</td>\n",
       "    </tr>\n",
       "    <tr>\n",
       "      <th>2021-03-07</th>\n",
       "      <td>2.778876e+09</td>\n",
       "      <td>Low</td>\n",
       "    </tr>\n",
       "    <tr>\n",
       "      <th>2021-03-06</th>\n",
       "      <td>2.143911e+09</td>\n",
       "      <td>Low</td>\n",
       "    </tr>\n",
       "    <tr>\n",
       "      <th>2021-03-05</th>\n",
       "      <td>3.727133e+09</td>\n",
       "      <td>Medium</td>\n",
       "    </tr>\n",
       "    <tr>\n",
       "      <th>2021-03-04</th>\n",
       "      <td>4.079837e+09</td>\n",
       "      <td>Medium</td>\n",
       "    </tr>\n",
       "    <tr>\n",
       "      <th>2021-03-03</th>\n",
       "      <td>4.109521e+09</td>\n",
       "      <td>Medium</td>\n",
       "    </tr>\n",
       "    <tr>\n",
       "      <th>2021-03-02</th>\n",
       "      <td>3.120472e+09</td>\n",
       "      <td>Medium</td>\n",
       "    </tr>\n",
       "    <tr>\n",
       "      <th>2021-03-01</th>\n",
       "      <td>4.057516e+09</td>\n",
       "      <td>Medium</td>\n",
       "    </tr>\n",
       "    <tr>\n",
       "      <th>2021-02-28</th>\n",
       "      <td>3.708360e+09</td>\n",
       "      <td>Medium</td>\n",
       "    </tr>\n",
       "    <tr>\n",
       "      <th>2021-02-27</th>\n",
       "      <td>3.105897e+09</td>\n",
       "      <td>Medium</td>\n",
       "    </tr>\n",
       "    <tr>\n",
       "      <th>2021-02-26</th>\n",
       "      <td>5.086375e+09</td>\n",
       "      <td>Medium</td>\n",
       "    </tr>\n",
       "    <tr>\n",
       "      <th>2021-02-25</th>\n",
       "      <td>4.152189e+09</td>\n",
       "      <td>Medium</td>\n",
       "    </tr>\n",
       "    <tr>\n",
       "      <th>2021-02-24</th>\n",
       "      <td>4.574033e+09</td>\n",
       "      <td>Medium</td>\n",
       "    </tr>\n",
       "    <tr>\n",
       "      <th>2021-02-23</th>\n",
       "      <td>8.215839e+09</td>\n",
       "      <td>High</td>\n",
       "    </tr>\n",
       "    <tr>\n",
       "      <th>2021-02-22</th>\n",
       "      <td>7.213387e+09</td>\n",
       "      <td>High</td>\n",
       "    </tr>\n",
       "    <tr>\n",
       "      <th>2021-02-21</th>\n",
       "      <td>3.317998e+09</td>\n",
       "      <td>Medium</td>\n",
       "    </tr>\n",
       "    <tr>\n",
       "      <th>2021-02-20</th>\n",
       "      <td>4.551891e+09</td>\n",
       "      <td>Medium</td>\n",
       "    </tr>\n",
       "    <tr>\n",
       "      <th>2021-02-19</th>\n",
       "      <td>4.251168e+09</td>\n",
       "      <td>Medium</td>\n",
       "    </tr>\n",
       "  </tbody>\n",
       "</table>\n",
       "</div>"
      ],
      "text/plain": [
       "             Volume USDT Volume USDT-binned\n",
       "date                                       \n",
       "2021-03-10  1.490111e+08                Low\n",
       "2021-03-09  3.861451e+09             Medium\n",
       "2021-03-08  3.400848e+09             Medium\n",
       "2021-03-07  2.778876e+09                Low\n",
       "2021-03-06  2.143911e+09                Low\n",
       "2021-03-05  3.727133e+09             Medium\n",
       "2021-03-04  4.079837e+09             Medium\n",
       "2021-03-03  4.109521e+09             Medium\n",
       "2021-03-02  3.120472e+09             Medium\n",
       "2021-03-01  4.057516e+09             Medium\n",
       "2021-02-28  3.708360e+09             Medium\n",
       "2021-02-27  3.105897e+09             Medium\n",
       "2021-02-26  5.086375e+09             Medium\n",
       "2021-02-25  4.152189e+09             Medium\n",
       "2021-02-24  4.574033e+09             Medium\n",
       "2021-02-23  8.215839e+09               High\n",
       "2021-02-22  7.213387e+09               High\n",
       "2021-02-21  3.317998e+09             Medium\n",
       "2021-02-20  4.551891e+09             Medium\n",
       "2021-02-19  4.251168e+09             Medium"
      ]
     },
     "execution_count": 159,
     "metadata": {},
     "output_type": "execute_result"
    }
   ],
   "source": [
    "df_crypto['Volume USDT-binned'] = pd.cut(df_crypto['Volume USDT'], bins, labels=group_names, include_lowest=True )\n",
    "df_crypto[['Volume USDT','Volume USDT-binned']].head(20)"
   ]
  },
  {
   "cell_type": "code",
   "execution_count": 160,
   "metadata": {},
   "outputs": [
    {
     "data": {
      "text/plain": [
       "Low       1243\n",
       "Medium      55\n",
       "High         5\n",
       "Name: Volume USDT-binned, dtype: int64"
      ]
     },
     "execution_count": 160,
     "metadata": {},
     "output_type": "execute_result"
    }
   ],
   "source": [
    "df_crypto['Volume USDT-binned'].value_counts()"
   ]
  },
  {
   "cell_type": "code",
   "execution_count": 161,
   "metadata": {},
   "outputs": [
    {
     "data": {
      "text/plain": [
       "Text(0.5, 1.0, 'Volume USDT bins')"
      ]
     },
     "execution_count": 161,
     "metadata": {},
     "output_type": "execute_result"
    },
    {
     "data": {
      "image/png": "[encoded data removed]",
      "text/plain": [
       "<Figure size 432x288 with 1 Axes>"
      ]
     },
     "metadata": {
      "needs_background": "light"
     },
     "output_type": "display_data"
    }
   ],
   "source": [
    "# Plot the distribution of each bin\n",
    "\n",
    "%matplotlib inline\n",
    "import matplotlib as plt\n",
    "from matplotlib import pyplot\n",
    "pyplot.bar(group_names, df_crypto['Volume USDT-binned'].value_counts())\n",
    "\n",
    "# set x/y labels and plot title\n",
    "plt.pyplot.xlabel(\"Volume USDT\")\n",
    "plt.pyplot.ylabel(\"np.sum\")\n",
    "plt.pyplot.title(\"Volume USDT bins\")"
   ]
  },
  {
   "cell_type": "markdown",
   "metadata": {},
   "source": [
    "## 5. Statistic analysis\n",
    "The target variable is open price.The aim is to investigate which attributes impact the open price"
   ]
  },
  {
   "cell_type": "code",
   "execution_count": 162,
   "metadata": {},
   "outputs": [
    {
     "data": {
      "text/plain": [
       "<AxesSubplot:xlabel='open', ylabel='close'>"
      ]
     },
     "execution_count": 162,
     "metadata": {},
     "output_type": "execute_result"
    },
    {
     "data": {
      "image/png": "[encoded data removed]",
      "text/plain": [
       "<Figure size 432x288 with 1 Axes>"
      ]
     },
     "metadata": {
      "needs_background": "light"
     },
     "output_type": "display_data"
    }
   ],
   "source": [
    "# 'close' price size as potential predictor variable of 'open' price\n",
    "\n",
    "import seaborn as sns\n",
    "%matplotlib inline\n",
    "\n",
    "sns.regplot(x=\"open\", y=\"close\", data=df_crypto)"
   ]
  },
  {
   "cell_type": "code",
   "execution_count": 163,
   "metadata": {},
   "outputs": [
    {
     "data": {
      "text/html": [
       "<div>\n",
       "<style scoped>\n",
       "    .dataframe tbody tr th:only-of-type {\n",
       "        vertical-align: middle;\n",
       "    }\n",
       "\n",
       "    .dataframe tbody tr th {\n",
       "        vertical-align: top;\n",
       "    }\n",
       "\n",
       "    .dataframe thead th {\n",
       "        text-align: right;\n",
       "    }\n",
       "</style>\n",
       "<table border=\"1\" class=\"dataframe\">\n",
       "  <thead>\n",
       "    <tr style=\"text-align: right;\">\n",
       "      <th></th>\n",
       "      <th>open</th>\n",
       "      <th>close</th>\n",
       "    </tr>\n",
       "  </thead>\n",
       "  <tbody>\n",
       "    <tr>\n",
       "      <th>open</th>\n",
       "      <td>1.000000</td>\n",
       "      <td>0.997244</td>\n",
       "    </tr>\n",
       "    <tr>\n",
       "      <th>close</th>\n",
       "      <td>0.997244</td>\n",
       "      <td>1.000000</td>\n",
       "    </tr>\n",
       "  </tbody>\n",
       "</table>\n",
       "</div>"
      ],
      "text/plain": [
       "           open     close\n",
       "open   1.000000  0.997244\n",
       "close  0.997244  1.000000"
      ]
     },
     "execution_count": 163,
     "metadata": {},
     "output_type": "execute_result"
    }
   ],
   "source": [
    "df_crypto[[\"open\",\"close\"]].corr()"
   ]
  },
  {
   "cell_type": "markdown",
   "metadata": {},
   "source": [
    "## Let's calculate the  Pearson Correlation Coefficient and P-value of 'open' and 'close'prices"
   ]
  },
  {
   "cell_type": "code",
   "execution_count": 164,
   "metadata": {},
   "outputs": [
    {
     "name": "stdout",
     "output_type": "stream",
     "text": [
      "The Pearson Correlation Coefficient is 0.9972443414616998  with a P-value of P = 0.0\n"
     ]
    }
   ],
   "source": [
    "#We can obtain this information using \"stats\" module in the \"scipy\" library.\n",
    "from scipy import stats\n",
    "\n",
    "pearson_coef, p_value = stats.pearsonr(df_crypto['open'], df_crypto['close'])\n",
    "print(\"The Pearson Correlation Coefficient is\", pearson_coef, \" with a P-value of P =\", p_value) "
   ]
  },
  {
   "cell_type": "markdown",
   "metadata": {},
   "source": [
    "## Strong correlation postive between Open and close price. Since the p-value is ~0, the correlation between open price and close price is statistically significant, with a strong linear relationship (0.99)."
   ]
  },
  {
   "cell_type": "code",
   "execution_count": 165,
   "metadata": {},
   "outputs": [
    {
     "data": {
      "text/plain": [
       "<AxesSubplot:xlabel='open', ylabel='high'>"
      ]
     },
     "execution_count": 165,
     "metadata": {},
     "output_type": "execute_result"
    },
    {
     "data": {
      "image/png": "[encoded data removed]",
      "text/plain": [
       "<Figure size 432x288 with 1 Axes>"
      ]
     },
     "metadata": {
      "needs_background": "light"
     },
     "output_type": "display_data"
    }
   ],
   "source": [
    "sns.regplot(x=\"open\", y=\"high\", data=df_crypto)"
   ]
  },
  {
   "cell_type": "code",
   "execution_count": 166,
   "metadata": {},
   "outputs": [
    {
     "data": {
      "text/plain": [
       "<AxesSubplot:xlabel='open', ylabel='tradecount'>"
      ]
     },
     "execution_count": 166,
     "metadata": {},
     "output_type": "execute_result"
    },
    {
     "data": {
      "image/png": "[encoded data removed]",
      "text/plain": [
       "<Figure size 432x288 with 1 Axes>"
      ]
     },
     "metadata": {
      "needs_background": "light"
     },
     "output_type": "display_data"
    }
   ],
   "source": [
    "sns.regplot(x=\"open\", y=\"tradecount\", data=df_crypto)"
   ]
  },
  {
   "cell_type": "code",
   "execution_count": 167,
   "metadata": {},
   "outputs": [
    {
     "data": {
      "text/plain": [
       "<AxesSubplot:xlabel='open', ylabel='Volume USDT'>"
      ]
     },
     "execution_count": 167,
     "metadata": {},
     "output_type": "execute_result"
    },
    {
     "data": {
      "image/png": "[encoded data removed]",
      "text/plain": [
       "<Figure size 432x288 with 1 Axes>"
      ]
     },
     "metadata": {
      "needs_background": "light"
     },
     "output_type": "display_data"
    }
   ],
   "source": [
    "sns.regplot(x=\"open\", y=\"Volume USDT\", data=df_crypto)"
   ]
  },
  {
   "cell_type": "code",
   "execution_count": 168,
   "metadata": {},
   "outputs": [
    {
     "name": "stdout",
     "output_type": "stream",
     "text": [
      "The Pearson Correlation Coefficient is 0.8659159166296158  with a P-value of P = 0.0\n"
     ]
    }
   ],
   "source": [
    "#We can obtain this information using \"stats\" module in the \"scipy\" library.\n",
    "from scipy import stats\n",
    "\n",
    "pearson_coef, p_value = stats.pearsonr(df_crypto['open'], df_crypto['Volume USDT'])\n",
    "print(\"The Pearson Correlation Coefficient is\", pearson_coef, \" with a P-value of P =\", p_value) "
   ]
  },
  {
   "cell_type": "markdown",
   "metadata": {},
   "source": [
    "## Strong correlation postive between Open price and Volume USDT. Since the p-value is ~0, the correlation between open price and Volume USDT is statistically significant, with a strong linear relationship (0.99)."
   ]
  },
  {
   "cell_type": "code",
   "execution_count": 169,
   "metadata": {},
   "outputs": [
    {
     "data": {
      "text/html": [
       "<div>\n",
       "<style scoped>\n",
       "    .dataframe tbody tr th:only-of-type {\n",
       "        vertical-align: middle;\n",
       "    }\n",
       "\n",
       "    .dataframe tbody tr th {\n",
       "        vertical-align: top;\n",
       "    }\n",
       "\n",
       "    .dataframe thead th {\n",
       "        text-align: right;\n",
       "    }\n",
       "</style>\n",
       "<table border=\"1\" class=\"dataframe\">\n",
       "  <thead>\n",
       "    <tr style=\"text-align: right;\">\n",
       "      <th></th>\n",
       "      <th>open</th>\n",
       "      <th>close</th>\n",
       "      <th>high</th>\n",
       "      <th>low</th>\n",
       "      <th>Volume USDT</th>\n",
       "    </tr>\n",
       "  </thead>\n",
       "  <tbody>\n",
       "    <tr>\n",
       "      <th>open</th>\n",
       "      <td>1.000000</td>\n",
       "      <td>0.997244</td>\n",
       "      <td>0.998581</td>\n",
       "      <td>0.997341</td>\n",
       "      <td>0.865916</td>\n",
       "    </tr>\n",
       "    <tr>\n",
       "      <th>close</th>\n",
       "      <td>0.997244</td>\n",
       "      <td>1.000000</td>\n",
       "      <td>0.998930</td>\n",
       "      <td>0.998391</td>\n",
       "      <td>0.863561</td>\n",
       "    </tr>\n",
       "    <tr>\n",
       "      <th>high</th>\n",
       "      <td>0.998581</td>\n",
       "      <td>0.998930</td>\n",
       "      <td>1.000000</td>\n",
       "      <td>0.997264</td>\n",
       "      <td>0.872766</td>\n",
       "    </tr>\n",
       "    <tr>\n",
       "      <th>low</th>\n",
       "      <td>0.997341</td>\n",
       "      <td>0.998391</td>\n",
       "      <td>0.997264</td>\n",
       "      <td>1.000000</td>\n",
       "      <td>0.852887</td>\n",
       "    </tr>\n",
       "    <tr>\n",
       "      <th>Volume USDT</th>\n",
       "      <td>0.865916</td>\n",
       "      <td>0.863561</td>\n",
       "      <td>0.872766</td>\n",
       "      <td>0.852887</td>\n",
       "      <td>1.000000</td>\n",
       "    </tr>\n",
       "  </tbody>\n",
       "</table>\n",
       "</div>"
      ],
      "text/plain": [
       "                 open     close      high       low  Volume USDT\n",
       "open         1.000000  0.997244  0.998581  0.997341     0.865916\n",
       "close        0.997244  1.000000  0.998930  0.998391     0.863561\n",
       "high         0.998581  0.998930  1.000000  0.997264     0.872766\n",
       "low          0.997341  0.998391  0.997264  1.000000     0.852887\n",
       "Volume USDT  0.865916  0.863561  0.872766  0.852887     1.000000"
      ]
     },
     "execution_count": 169,
     "metadata": {},
     "output_type": "execute_result"
    }
   ],
   "source": [
    "# Let's visualise quickly the correlation matrix for the key attributes\n",
    "df_crypto[[\"open\",\"close\", \"high\",\"low\",\"Volume USDT\"]].corr()"
   ]
  },
  {
   "cell_type": "code",
   "execution_count": null,
   "metadata": {},
   "outputs": [],
   "source": []
  }
 ],
 "metadata": {
  "kernelspec": {
   "display_name": "Python",
   "language": "python",
   "name": "conda-env-python-py"
  },
  "language_info": {
   "codemirror_mode": {
    "name": "ipython",
    "version": 3
   },
   "file_extension": ".py",
   "mimetype": "text/x-python",
   "name": "python",
   "nbconvert_exporter": "python",
   "pygments_lexer": "ipython3",
   "version": "3.6.12"
  }
 },
 "nbformat": 4,
 "nbformat_minor": 4
}
